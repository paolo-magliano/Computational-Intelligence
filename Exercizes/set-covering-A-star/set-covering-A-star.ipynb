{
 "cells": [
  {
   "cell_type": "code",
   "execution_count": 67,
   "metadata": {},
   "outputs": [],
   "source": [
    "import numpy as np\n",
    "import random as rd\n",
    "from functools import reduce\n",
    "from queue import SimpleQueue, PriorityQueue\n",
    "from collections import namedtuple\n"
   ]
  },
  {
   "cell_type": "code",
   "execution_count": 103,
   "metadata": {},
   "outputs": [],
   "source": [
    "\n",
    "PROBLEM_SIZE = 15\n",
    "NUM_SETS = 20\n",
    "SETS = tuple([np.array([rd.random() < .2 for _ in range(PROBLEM_SIZE)]) for _ in range(NUM_SETS)])\n",
    "\n",
    "initial_state = (set(), set(range(NUM_SETS)))"
   ]
  },
  {
   "cell_type": "code",
   "execution_count": 69,
   "metadata": {},
   "outputs": [],
   "source": [
    "def goal_check(state):\n",
    "    return np.all(reduce(np.logical_or, [SETS[i] for i in state[0]], np.array([False for _ in range(PROBLEM_SIZE)])))\n",
    "\n",
    "def distance(state):\n",
    "    return PROBLEM_SIZE - np.sum(reduce(np.logical_or, [SETS[i] for i in state[0]], np.array([False for _ in range(PROBLEM_SIZE)])))\n",
    "\n",
    "def cost(state):\n",
    "    return distance(state) + len(state[0])"
   ]
  },
  {
   "cell_type": "code",
   "execution_count": 91,
   "metadata": {},
   "outputs": [],
   "source": [
    "def search(initial_state, type_of_queue):\n",
    "        print(type_of_queue.__name__)\n",
    "        frontier = type_of_queue()\n",
    "        state = initial_state\n",
    "        counter = 0\n",
    "        while state[1] and not goal_check(state):\n",
    "            counter += 1\n",
    "            for action in state[1]:\n",
    "                if action not in state[0]:\n",
    "                    new_state = (state[0] ^ {action}, state[1] ^ {action})\n",
    "                    frontier.put((cost(new_state), new_state))\n",
    "            _, state = frontier.get()\n",
    "\n",
    "        if goal_check(state):   \n",
    "            print(\"\\tSolution:\", state[0], _)\n",
    "            print(\"\\tSteps: \", counter)\n",
    "        else:\n",
    "            print(\"\\tNo solution found\")"
   ]
  },
  {
   "cell_type": "code",
   "execution_count": 104,
   "metadata": {},
   "outputs": [
    {
     "name": "stdout",
     "output_type": "stream",
     "text": [
      "SimpleQueue\n",
      "\tSolution: {10, 7, 6, 15} 4\n",
      "\tSteps:  44109\n",
      "PriorityQueue\n",
      "\tSolution: {10, 7, 6, 15} 4\n",
      "\tSteps:  4\n"
     ]
    }
   ],
   "source": [
    "for queue in [SimpleQueue, PriorityQueue]:\n",
    "    search(initial_state, queue)"
   ]
  }
 ],
 "metadata": {
  "kernelspec": {
   "display_name": ".venv",
   "language": "python",
   "name": "python3"
  },
  "language_info": {
   "codemirror_mode": {
    "name": "ipython",
    "version": 3
   },
   "file_extension": ".py",
   "mimetype": "text/x-python",
   "name": "python",
   "nbconvert_exporter": "python",
   "pygments_lexer": "ipython3",
   "version": "3.10.4"
  },
  "orig_nbformat": 4
 },
 "nbformat": 4,
 "nbformat_minor": 2
}
