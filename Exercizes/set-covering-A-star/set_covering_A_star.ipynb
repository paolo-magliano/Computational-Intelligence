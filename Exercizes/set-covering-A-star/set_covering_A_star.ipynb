{
  "cells": [
    {
      "cell_type": "code",
      "execution_count": 32,
      "metadata": {
        "id": "vb1xWhY9zCVx"
      },
      "outputs": [],
      "source": [
        "import numpy as np\n",
        "import random as rd\n",
        "from math import ceil\n",
        "from functools import reduce\n",
        "from queue import SimpleQueue, PriorityQueue\n",
        "from collections import namedtuple\n",
        "import time\n"
      ]
    },
    {
      "cell_type": "code",
      "execution_count": 56,
      "metadata": {
        "id": "cLOZIQIDzCV2"
      },
      "outputs": [],
      "source": [
        "\n",
        "PROBLEM_SIZE = 30\n",
        "NUM_SETS = 50\n",
        "SETS = tuple([np.array([rd.random() < 0.15 for _ in range(PROBLEM_SIZE)]) for _ in range(NUM_SETS)])\n",
        "\n",
        "initial_state = (set(), set(range(NUM_SETS)))"
      ]
    },
    {
      "cell_type": "code",
      "execution_count": 4,
      "metadata": {
        "id": "gw0tuaTUzCV5"
      },
      "outputs": [],
      "source": [
        "def covered(state):\n",
        "    return reduce(np.logical_or, [SETS[i] for i in state[0]], np.array([False for _ in range(PROBLEM_SIZE)]))\n",
        "\n",
        "def goal_check(state):\n",
        "    return np.all(covered(state))\n",
        "\n",
        "def distance(state):\n",
        "    return PROBLEM_SIZE - np.sum(covered(state))\n",
        "\n",
        "def h1(state):\n",
        "    largest_set_size = max(sum(s) for s in SETS)\n",
        "    missing_size = PROBLEM_SIZE - sum(covered(state))\n",
        "    optimistic_estimate = ceil(missing_size / largest_set_size)\n",
        "    return optimistic_estimate\n",
        "\n",
        "\n",
        "def h2(state):\n",
        "    already_covered = covered(state)\n",
        "    if np.all(already_covered):\n",
        "        return 0\n",
        "    largest_set_size = max(sum(np.logical_and(s, np.logical_not(already_covered))) for s in SETS)\n",
        "    missing_size = PROBLEM_SIZE - sum(already_covered)\n",
        "    optimistic_estimate = ceil(missing_size / largest_set_size)\n",
        "    return optimistic_estimate\n",
        "\n",
        "\n",
        "def h3(state):\n",
        "    already_covered = covered(state)\n",
        "    if np.all(already_covered):\n",
        "        return 0\n",
        "    missing_size = PROBLEM_SIZE - sum(already_covered)\n",
        "    candidates = sorted((sum(np.logical_and(s, np.logical_not(already_covered))) for s in SETS), reverse=True)\n",
        "    taken = 1\n",
        "    while sum(candidates[:taken]) < missing_size:\n",
        "        taken += 1\n",
        "    return taken\n",
        "\n",
        "def h4(state): #not worth compared to h3\n",
        "    filtered_sets = [SETS[i] for i in state[1]]\n",
        "    covered_elements = covered(state)\n",
        "    missing_elements = PROBLEM_SIZE - sum(covered_elements)\n",
        "    steps = 0\n",
        "\n",
        "    while missing_elements > 0 and filtered_sets:\n",
        "      filtered_sets = sorted([np.logical_and(filtered_sets[i], np.logical_not(covered_elements)) for i in range(len(filtered_sets))], key=lambda x: sum(x))\n",
        "      best_set = filtered_sets.pop()\n",
        "\n",
        "      missing_elements -= sum(best_set)\n",
        "      steps += 1\n",
        "      covered_elemts = best_set\n",
        "\n",
        "    return steps if missing_elements <= 0 else PROBLEM_SIZE\n",
        "\n",
        "def gready_cost(state):\n",
        "    return distance(state) + len(state[0])\n",
        "\n",
        "def A_cost1(state):\n",
        "    return h1(state) + len(state[0])\n",
        "\n",
        "def A_cost2(state):\n",
        "    return h2(state) + len(state[0])\n",
        "\n",
        "def A_cost3(state):\n",
        "    return h3(state) + len(state[0])\n",
        "\n",
        "def A_cost4(state):\n",
        "    return h4(state) + len(state[0])\n",
        "\n",
        "def breath_cost(state):\n",
        "    return len(state[0])"
      ]
    },
    {
      "cell_type": "code",
      "execution_count": 48,
      "metadata": {
        "id": "yh5NwS3mzCV6"
      },
      "outputs": [],
      "source": [
        "def search(initial_state, cost_function):\n",
        "        print(cost_function.__name__)\n",
        "        frontier = PriorityQueue()\n",
        "        state = initial_state\n",
        "        counter = 0\n",
        "        if(not goal_check((state[1], state[0]))):\n",
        "            print(\"\\tNo solution found\")\n",
        "        else:\n",
        "          start = time.time()\n",
        "          while state[1] and not goal_check(state):\n",
        "              counter += 1\n",
        "              for action in state[1]:\n",
        "                  if action not in state[0]:\n",
        "                      new_state = (state[0] ^ {action}, state[1] ^ {action})\n",
        "                      frontier.put((cost_function(new_state), new_state))\n",
        "              _, state = frontier.get()\n",
        "          end = time.time()\n",
        "\n",
        "          print(\"\\tSolution:\", state[0], _)\n",
        "          print(\"\\tSteps: \", counter)\n",
        "          print(f'\\tTime for step: {((end - start)/counter):.2e}')\n",
        ""
      ]
    },
    {
      "cell_type": "code",
      "execution_count": 57,
      "metadata": {
        "id": "iPfxvHgTzCV8",
        "outputId": "d93d3031-fd40-45b2-a7de-c29519d4ed21",
        "colab": {
          "base_uri": "https://localhost:8080/"
        }
      },
      "outputs": [
        {
          "output_type": "stream",
          "name": "stdout",
          "text": [
            "gready_cost\n",
            "\tSolution: {3, 15, 17, 18, 22, 24, 29} 7\n",
            "\tSteps:  13\n",
            "\tTime for step: 1.63e-03\n",
            "A_cost3\n",
            "\tSolution: {3, 40, 43, 14, 48, 17} 6\n",
            "\tSteps:  10389\n",
            "\tTime for step: 2.18e-02\n",
            "A_cost4\n",
            "\tSolution: {3, 40, 43, 14, 48, 17} 6\n",
            "\tSteps:  10389\n",
            "\tTime for step: 5.38e-02\n"
          ]
        }
      ],
      "source": [
        "for cost_fun in [gready_cost, A_cost3, A_cost4]:\n",
        "    search(initial_state, cost_fun)"
      ]
    }
  ],
  "metadata": {
    "kernelspec": {
      "display_name": ".venv",
      "language": "python",
      "name": "python3"
    },
    "language_info": {
      "codemirror_mode": {
        "name": "ipython",
        "version": 3
      },
      "file_extension": ".py",
      "mimetype": "text/x-python",
      "name": "python",
      "nbconvert_exporter": "python",
      "pygments_lexer": "ipython3",
      "version": "3.10.4"
    },
    "orig_nbformat": 4,
    "colab": {
      "provenance": []
    }
  },
  "nbformat": 4,
  "nbformat_minor": 0
}