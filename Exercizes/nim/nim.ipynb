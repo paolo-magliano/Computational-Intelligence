{
  "cells": [
    {
      "cell_type": "markdown",
      "metadata": {
        "id": "q7m0o5gPOV4d",
        "pycharm": {
          "name": "#%% md\n"
        }
      },
      "source": [
        "Copyright **`(c)`** 2022 Giovanni Squillero `<squillero@polito.it>`  \n",
        "[`https://github.com/squillero/computational-intelligence`](https://github.com/squillero/computational-intelligence)  \n",
        "Free for personal or classroom use; see [`LICENSE.md`](https://github.com/squillero/computational-intelligence/blob/master/LICENSE.md) for details.  \n"
      ]
    },
    {
      "cell_type": "markdown",
      "metadata": {
        "id": "j04QCue5OV4p",
        "pycharm": {
          "name": "#%%\n"
        }
      },
      "source": [
        "# Lab 3: ES\n",
        "\n",
        "## Task\n",
        "\n",
        "Write agents able to play [*Nim*](https://en.wikipedia.org/wiki/Nim), with an arbitrary number of rows and an upper bound $k$ on the number of objects that can be removed in a turn (a.k.a., *subtraction game*).\n",
        "\n",
        "The goal of the game is to **avoid** taking the last object.\n",
        "\n",
        "* Task2.1: An agent using fixed rules based on *nim-sum* (i.e., an *expert system*)\n",
        "* Task2.2: An agent using evolved rules using ES\n",
        "\n",
        "## Instructions\n",
        "\n",
        "* Create the directory `lab2` inside the course repo\n",
        "* Put a `README.md` and your solution (all the files, code and auxiliary data if needed)\n",
        "\n",
        "## Notes\n",
        "\n",
        "* Working in group is not only allowed, but recommended (see: [Ubuntu](https://en.wikipedia.org/wiki/Ubuntu_philosophy) and [Cooperative Learning](https://files.eric.ed.gov/fulltext/EJ1096789.pdf)). Collaborations must be explicitly declared in the `README.md`.\n",
        "* [Yanking](https://www.emacswiki.org/emacs/KillingAndYanking) from the internet is allowed, but sources must be explicitly declared in the `README.md`.\n",
        "\n"
      ]
    },
    {
      "cell_type": "code",
      "execution_count": 11,
      "metadata": {
        "id": "5lqhjKTQOV4r"
      },
      "outputs": [],
      "source": [
        "import logging\n",
        "from itertools import product\n",
        "from pprint import pprint, pformat\n",
        "from collections import namedtuple\n",
        "import random\n",
        "from copy import deepcopy\n",
        "import numpy as np\n",
        "import time\n"
      ]
    },
    {
      "cell_type": "markdown",
      "metadata": {
        "id": "lgp5wz6BOV4w"
      },
      "source": [
        "## The *Nim* and *Nimply* classes"
      ]
    },
    {
      "cell_type": "code",
      "execution_count": 12,
      "metadata": {
        "id": "KY3cqY8-OV4x"
      },
      "outputs": [],
      "source": [
        "Nimply = namedtuple(\"Nimply\", \"row, num_objects\")\n"
      ]
    },
    {
      "cell_type": "code",
      "execution_count": 13,
      "metadata": {
        "id": "znRufkexOV4y"
      },
      "outputs": [],
      "source": [
        "class Nim:\n",
        "    def __init__(self, num_rows: int) -> None:\n",
        "        self._rows = [i * 2 + 1 for i in range(num_rows)]\n",
        "\n",
        "    def __bool__(self):\n",
        "        return sum(self._rows) > 0\n",
        "\n",
        "    def __str__(self):\n",
        "        return \"<\" + \" \".join(str(_) for _ in self._rows) + \">\"\n",
        "\n",
        "    @property\n",
        "    def rows(self) -> tuple:\n",
        "        return tuple(self._rows)\n",
        "\n",
        "    def nimming(self, ply: Nimply) -> None:\n",
        "        row, num_objects = ply\n",
        "        assert self._rows[row] >= num_objects\n",
        "        self._rows[row] -= num_objects\n"
      ]
    },
    {
      "cell_type": "markdown",
      "metadata": {
        "id": "hRaxQmTfOV4z"
      },
      "source": [
        "## Sample (and silly) startegies"
      ]
    },
    {
      "cell_type": "code",
      "execution_count": 14,
      "metadata": {
        "id": "Oha71rlxOV41"
      },
      "outputs": [],
      "source": [
        "def pure_random(state: Nim) -> Nimply:\n",
        "    \"\"\"A completely random move\"\"\"\n",
        "    row = random.choice([r for r, c in enumerate(state.rows) if c > 0])\n",
        "    num_objects = random.randint(1, state.rows[row])\n",
        "    return Nimply(row, num_objects)\n"
      ]
    },
    {
      "cell_type": "code",
      "execution_count": 15,
      "metadata": {
        "id": "oDvvq_lmOV42"
      },
      "outputs": [],
      "source": [
        "def gabriele(state: Nim) -> Nimply:\n",
        "    \"\"\"Pick always the maximum possible number of the lowest row\"\"\"\n",
        "    possible_moves = [(r, o) for r, c in enumerate(state.rows) for o in range(1, c + 1)]\n",
        "    return Nimply(*max(possible_moves, key=lambda m: (-m[0], m[1])))\n"
      ]
    },
    {
      "cell_type": "code",
      "execution_count": 16,
      "metadata": {},
      "outputs": [],
      "source": [
        "def me(state: Nim) -> Nimply:\n",
        "    row = input(\"Row: \")\n",
        "    num_objects = input(\"Num objects: \")\n",
        "    return Nimply(int(row) -1, int(num_objects))"
      ]
    },
    {
      "cell_type": "code",
      "execution_count": 17,
      "metadata": {
        "id": "WfGSps3rOV45"
      },
      "outputs": [],
      "source": [
        "def nim_sum(state: Nim) -> int:\n",
        "    tmp = np.array([tuple(int(x) for x in f\"{c:032b}\") for c in state.rows])\n",
        "    xor = tmp.sum(axis=0) % 2\n",
        "    return int(\"\".join(str(_) for _ in xor), base=2)\n",
        "\n",
        "def analize(raw: Nim) -> dict:\n",
        "    cooked = dict()\n",
        "    cooked[\"possible_moves\"] = dict()\n",
        "    for ply in (Nimply(r, o) for r, c in enumerate(raw.rows) for o in range(1, c + 1)):\n",
        "        tmp = deepcopy(raw)\n",
        "        tmp.nimming(ply)\n",
        "        cooked[\"possible_moves\"][ply] = nim_sum(tmp)\n",
        "    return cooked\n",
        "\n",
        "def optimal(state: Nim) -> Nimply:\n",
        "    analysis = analize(state)\n",
        "    logging.debug(f\"analysis:\\n{pformat(analysis)}\")\n",
        "    good_moves = [ply for ply, ns in analysis[\"possible_moves\"].items() if ns == 0]\n",
        "    if not good_moves:\n",
        "        good_moves = list(analysis[\"possible_moves\"].keys())\n",
        "    ply = random.choice(good_moves)\n",
        "    return ply\n",
        "\n",
        "def spicy(state: Nim) -> Nimply:\n",
        "    analysis = analize(state)\n",
        "    logging.debug(f\"analysis:\\n{pformat(analysis)}\")\n",
        "    spicy_moves = [ply for ply, ns in analysis[\"possible_moves\"].items() if ns != 0]\n",
        "    if not spicy_moves:\n",
        "        spicy_moves = list(analysis[\"possible_moves\"].keys())\n",
        "    ply = random.choice(spicy_moves)\n",
        "    return ply"
      ]
    },
    {
      "cell_type": "markdown",
      "metadata": {},
      "source": [
        "## Adaptive Strategy\n",
        "### The genotype\n",
        "The adaptive strategy genotype is based on a multidimensional array that rappresents all the possbile states of the game, where each dimension rapresents a row of the game. In each cell of the array there is the next move that the strategy will do in that state.\n",
        "\n",
        "#### Example:\n",
        "`GAME_SIZE = 2`: A Game with 2 rows, one with 1 elements and one with 3 elements\n",
        "The array is a 2x4 matrix where the first dimension rappresent the first row that can have from 0 up to 1 elements, and the second dimension rappresent the second row that can have from 0 up to 3 elements.\n",
        "\n",
        "One possibile istance of the moves array is:\n",
        "\n",
        "```\n",
        "[[None                         Nimply(row=1, num_objects=1) Nimply(row=1, num_objects=2) Nimply(row=1, num_objects=3)]\n",
        " [Nimply(row=0, num_objects=1) Nimply(row=1, num_objects=1) Nimply(row=1, num_objects=1) Nimply(row=0, num_objects=1)]]\n",
        "```\n",
        "\n",
        "In this case the move that the strategy will do in the state (1, 3) is the cell `moves[1][3]` and it is `Nimply(row=0, num_objects=1)`. The next state after this move will be (0, 3), the other player do his move and then the adaptive strategy gives its next move based on the new state in the same way.\n",
        "\n",
        "### The fitness function\n",
        "The fitness function is really simple and it is 1 if the strategy wins the game and 0 if it loses the game."
      ]
    },
    {
      "cell_type": "code",
      "execution_count": 18,
      "metadata": {
        "id": "xPhwA4L_OV44"
      },
      "outputs": [],
      "source": [
        "class Adaptive:\n",
        "    \"\"\"A strategy that can adapt its parameters\"\"\"\n",
        "    def __init__(self, dim: int, name: str = \"\") -> None:\n",
        "        self.dim = dim\n",
        "        self.name = name\n",
        "        self.records = []\n",
        "        \n",
        "        loaded_moves, tries = self.load_moves()    \n",
        "        \n",
        "        self.moves = Adaptive.init_moves(dim)\n",
        "\n",
        "        if loaded_moves.size:\n",
        "            self.moves[..., *[0 for _ in range(tries)]] = loaded_moves\n",
        "    \n",
        "    def load_moves(self):\n",
        "        \"\"\"Load moves from the file if one strategy has already been trained, if no file is found, tries to load the moves for dim - 1\"\"\"\n",
        "        loaded_moves = np.array([])\n",
        "        tries = 0 \n",
        "        while not loaded_moves.size and tries < self.dim:\n",
        "            try:\n",
        "                loaded_moves = np.load(f\"{self.name}_adaptive_{self.dim - tries}.npy\", allow_pickle=True)\n",
        "            except FileNotFoundError:     \n",
        "                tries += 1\n",
        "        return loaded_moves, tries\n",
        "\n",
        "    @staticmethod\n",
        "    def init_moves(dim: int):\n",
        "        \"\"\"Init the moves array with random moves\"\"\"\n",
        "        moves = np.empty(tuple([2*i+2 for i in range(dim)]), dtype=Nimply)\n",
        "       \n",
        "        for i in tuple(product(*[range(2*i+2)  for i in range(dim)])):\n",
        "            if sum(i) > 0:    \n",
        "                row = random.choice([r for r, c in enumerate(i) if c > 0])\n",
        "                num_objects = random.randint(1, i[row])\n",
        "\n",
        "                moves[i] = Nimply(row, num_objects)\n",
        "\n",
        "        return moves\n",
        "\n",
        "\n",
        "    def move(self, state: Nim) -> Nimply:\n",
        "        \"\"\"Used to get the move from the strategy\"\"\"\n",
        "        self.records.append(state.rows)\n",
        "        return self.moves[state.rows]\n",
        "    \n",
        "    def clean_records(self):\n",
        "        self.records = []\n",
        "    \n",
        "    def mutation(self, ply: Nimply) -> None:\n",
        "        \"\"\"Mutate one move of the strategy randomly\"\"\"\n",
        "        possible_rows = [r for r, c in enumerate(ply) if c > 0]\n",
        "        row = random.choice(possible_rows)\n",
        "        num_objects = random.randint(1, ply[row])\n",
        "        self.moves[ply] = Nimply(row, num_objects)\n",
        "\n",
        "    @staticmethod\n",
        "    def get_moves(strategies: dict) -> tuple:\n",
        "        \"\"\"Get the moves of the strategies that won and the moves of the strategies that lost\"\"\"\n",
        "        good_moves = {}\n",
        "        bad_moves = set()\n",
        "\n",
        "        for strategy, result in strategies.items():\n",
        "            for rd in strategy.records:\n",
        "                if result:\n",
        "                    if rd in good_moves:\n",
        "                        good_moves[rd].append(strategy.moves[rd])\n",
        "                    else :\n",
        "                        good_moves[rd] = [strategy.moves[rd]]\n",
        "                else:\n",
        "                    bad_moves.add(rd)\n",
        "        \n",
        "        bad_moves = bad_moves - good_moves.keys()\n",
        "        \n",
        "        return good_moves, bad_moves\n",
        "        \n",
        "    @staticmethod\n",
        "    def get_candidates(strategies: dict, n_sample: int) -> dict:\n",
        "        \"\"\"Extract n_sample candidates from the strategies\"\"\"\n",
        "        candidates = list(strategies.items())\n",
        "        extracted = {deepcopy(random.choice([strat for strat, _ in candidates])): 0 for _ in range(n_sample)}\n",
        "        return dict(extracted)\n",
        "\n",
        "    @staticmethod\n",
        "    def fake_get_candidates(strategies: dict) -> dict:\n",
        "        \"\"\"\n",
        "        Does not really extract candidates, just returns a dict with the same keys and reset the win flag.\n",
        "        Really faster than get_candidates\n",
        "        \"\"\"\n",
        "        return {strat: 0 for strat in strategies.keys()}\n",
        "\n",
        "    @staticmethod\n",
        "    def next_epoch(strategies: dict, n_sample: int) -> list:\n",
        "        \"\"\"Get the next epoch of the strategies, selcting the best moves and mutating the bad ones from the previous epoch\"\"\"\n",
        "\n",
        "        good_moves, bad_moves = Adaptive.get_moves(strategies)\n",
        "\n",
        "        new_strategies = Adaptive.fake_get_candidates(strategies)\n",
        "\n",
        "        for strat in new_strategies.keys():\n",
        "            strat.clean_records()\n",
        "            for pos, moves in good_moves.items(): \n",
        "                strat.moves[pos] = random.choice(moves)\n",
        "            for pos in bad_moves:\n",
        "                strat.mutation(pos)   \n",
        "\n",
        "        return new_strategies  \n",
        "    \n",
        "    def save(self):\n",
        "        \"\"\"Save the trained moves of the strategy in a file\"\"\"\n",
        "        np.save(f\"{self.name}_adaptive_{self.dim}.npy\", self.moves)"
      ]
    },
    {
      "cell_type": "markdown",
      "metadata": {
        "id": "sfnILxFOOV46"
      },
      "source": [
        "## Match"
      ]
    },
    {
      "cell_type": "code",
      "execution_count": 19,
      "metadata": {},
      "outputs": [],
      "source": [
        "def match(nim: Nim, strategies: dict, start: bool = 0, verbose: bool = True) -> bool:\n",
        "    \"\"\"Play a match of nim between two strategies\"\"\"\n",
        "    player = 1 - start\n",
        "    if verbose:\n",
        "            print(f\"\\tstatus: {nim}\")\n",
        "    while nim:\n",
        "        player = 1 - player\n",
        "        ply = strategies[player](nim)\n",
        "        nim.nimming(ply)\n",
        "        if verbose:\n",
        "            print(f\"\\tply: player {player} plays {ply}\")    \n",
        "            print(f\"\\tstatus: {nim}\")\n",
        "\n",
        "    return player"
      ]
    },
    {
      "cell_type": "markdown",
      "metadata": {},
      "source": [
        "## Training"
      ]
    },
    {
      "cell_type": "code",
      "execution_count": 100,
      "metadata": {
        "colab": {
          "base_uri": "https://localhost:8080/"
        },
        "id": "oZ3Cwqr_OV47",
        "outputId": "ed11da48-83d2-47e9-d580-0379c3d21dd5"
      },
      "outputs": [
        {
          "name": "stdout",
          "output_type": "stream",
          "text": [
            "win rate: 51.583 %                                                  \n"
          ]
        }
      ],
      "source": [
        "GAME_SIZE = 6\n",
        "N_EPOCH = 2000\n",
        "N_POPULATION = 300\n",
        "\"\"\"The strategies are stored in a dict, the key is the strategy and the value is 0 if the strategy lost and 1 if it won\"\"\"\n",
        "apt_strategies = {Adaptive(GAME_SIZE, \"1\"): 0 for _ in range(N_POPULATION)}\n",
        "apt_strategies2 = {Adaptive(GAME_SIZE, \"2\"): 0 for _ in range(N_POPULATION)}\n",
        "win = 0\n",
        "\n",
        "for i in range(N_EPOCH):\n",
        "    for apt, apt2 in zip(apt_strategies.keys(), apt_strategies2.keys()):\n",
        "        nim = Nim(GAME_SIZE)\n",
        "        strategy = (apt.move, apt2.move)\n",
        "\n",
        "        winner = match(nim, strategy, start=i%2, verbose=False)\n",
        "        if winner == 0:\n",
        "            apt_strategies[apt] += 1\n",
        "            win += 1\n",
        "        else:\n",
        "            apt_strategies2[apt2] += 1\n",
        "\n",
        "    if (i+1) % 10 == 0:\n",
        "        print(f\"\\tEpoch: {i+1}/{N_EPOCH} Avg win rate: {(win*100/(N_POPULATION * (i+1))):.3f} %  \", end=\"\\r\")\n",
        "\n",
        "    apt_strategies = Adaptive.next_epoch(apt_strategies, n_sample=N_POPULATION)\n",
        "    apt_strategies2 = Adaptive.next_epoch(apt_strategies2, n_sample=N_POPULATION)\n",
        "\n",
        "print(f\"win rate: {(win*100/(N_EPOCH*N_POPULATION)):.3f} %\" + \" \"*50)\n",
        "\n",
        "final_apt = Adaptive.get_candidates(apt_strategies, n_sample=1).popitem()[0]\n",
        "final_apt2 = Adaptive.get_candidates(apt_strategies2, n_sample=1).popitem()[0]\n",
        "\n",
        "final_apt.save()\n",
        "final_apt2.save()\n"
      ]
    }
  ],
  "metadata": {
    "colab": {
      "provenance": []
    },
    "kernelspec": {
      "display_name": "Python 3.10.7 ('ci22-dPIXJ0_o-py3.10')",
      "language": "python",
      "name": "python3"
    },
    "language_info": {
      "codemirror_mode": {
        "name": "ipython",
        "version": 3
      },
      "file_extension": ".py",
      "mimetype": "text/x-python",
      "name": "python",
      "nbconvert_exporter": "python",
      "pygments_lexer": "ipython3",
      "version": "3.12.0"
    },
    "vscode": {
      "interpreter": {
        "hash": "10197e8e2f2aa67e2c349105091c77f4cd384fce4877865f002d9ec653f96bc0"
      }
    }
  },
  "nbformat": 4,
  "nbformat_minor": 0
}
